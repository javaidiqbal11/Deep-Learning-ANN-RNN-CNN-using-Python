{
 "cells": [
  {
   "cell_type": "code",
   "execution_count": null,
   "metadata": {},
   "outputs": [],
   "source": [
    "# importing required libraries\n",
    "import numpy as np\n",
    "import pandas as pd\n",
    "from tqdm import tqdm\n",
    "from keras.datasets import mnist"
   ]
  },
  {
   "cell_type": "code",
   "execution_count": null,
   "metadata": {},
   "outputs": [],
   "source": [
    "# loading dataset\n",
    "(x_train, y_train), (x_test, y_test) = mnist.load_data()"
   ]
  },
  {
   "cell_type": "code",
   "execution_count": null,
   "metadata": {},
   "outputs": [],
   "source": [
    "# selecting a subset of data (200 images)\n",
    "x_train = x_train[:200]\n",
    "y = y_train[:200]\n",
    "\n",
    "X = x_train.T\n",
    "X = X/255\n",
    "\n",
    "y.resize((200,1))\n",
    "y = y.T\n",
    "\n",
    "#checking value\n",
    "pd.Series(y[0]).value_counts()\n"
   ]
  },
  {
   "cell_type": "code",
   "execution_count": null,
   "metadata": {},
   "outputs": [],
   "source": [
    "# converting into binary classification\n",
    "for i in range(y.shape[1]):\n",
    "    if y[0][i] >4:\n",
    "        y[0][i] = 1\n",
    "    else:\n",
    "        y[0][i] = 0\n",
    "\n",
    "#checking value counts\n",
    "pd.Series(y[0]).value_counts()"
   ]
  },
  {
   "cell_type": "code",
   "execution_count": null,
   "metadata": {},
   "outputs": [],
   "source": [
    "# initializing filter\n",
    "f=np.random.uniform(size=(3,5,5))\n",
    "f = f.T\n",
    "\n",
    "print('Filter 1', '\\n', f[:,:,0], '\\n')\n",
    "print('Filter 2', '\\n', f[:,:,1], '\\n')\n",
    "print('Filter 3', '\\n', f[:,:,2], '\\n')"
   ]
  },
  {
   "cell_type": "code",
   "execution_count": null,
   "metadata": {},
   "outputs": [],
   "source": [
    "X.shape, y.shape, f.shape"
   ]
  },
  {
   "cell_type": "code",
   "execution_count": null,
   "metadata": {},
   "outputs": [],
   "source": [
    "# Generating patches from images\n",
    "new_image = []\n",
    "\n",
    "# for number of images\n",
    "for k in range(X.shape[2]):\n",
    "    # sliding in horizontal direction\n",
    "    for i in range(X.shape[0]-f.shape[0]+1):\n",
    "        # sliding in vertical direction\n",
    "        for j in range(X.shape[1]-f.shape[1]+1):\n",
    "            new_image.append(X[:,:,k][i:i+f.shape[0],j:j+f.shape[1]])\n",
    "            \n",
    "# resizing the generated patches as per number of images\n",
    "new_image = np.array(new_image)\n",
    "new_image.resize((X.shape[2],int(new_image.shape[0]/X.shape[2]),new_image.shape[1],new_image.shape[2]))\n",
    "new_image.shape"
   ]
  },
  {
   "cell_type": "code",
   "execution_count": null,
   "metadata": {},
   "outputs": [],
   "source": [
    "# number of features in data set\n",
    "s_row = X.shape[0] - f.shape[0] + 1\n",
    "s_col = X.shape[1] - f.shape[1] + 1\n",
    "num_filter = f.shape[2]\n",
    "\n",
    "inputlayer_neurons = (s_row)*(s_col)*(num_filter)\n",
    "output_neurons = 1 \n",
    "\n",
    "# initializing weight\n",
    "wo=np.random.uniform(size=(inputlayer_neurons,output_neurons))"
   ]
  },
  {
   "cell_type": "code",
   "execution_count": null,
   "metadata": {},
   "outputs": [],
   "source": [
    "# defining the Sigmoid Function\n",
    "def sigmoid (x):\n",
    "    return 1/(1 + np.exp(-x))\n",
    "\n",
    "# derivative of Sigmoid Function\n",
    "def derivatives_sigmoid(x):\n",
    "    return x * (1 - x)"
   ]
  },
  {
   "cell_type": "code",
   "execution_count": null,
   "metadata": {},
   "outputs": [],
   "source": [
    "# generating output of convolution layer\n",
    "filter_output = []\n",
    "# for each image\n",
    "for i in range(len(new_image)):\n",
    "    # apply each filter\n",
    "    for k in range(f.shape[2]):\n",
    "        # do element wise multiplication\n",
    "        for j in range(new_image.shape[1]):\n",
    "            filter_output.append((new_image[i][j]*f[:,:,k]).sum()) \n",
    "\n",
    "filter_output = np.resize(np.array(filter_output), (len(new_image),f.shape[2],new_image.shape[1]))\n",
    "\n",
    "# applying activation over convolution output\n",
    "filter_output_sigmoid = sigmoid(filter_output)\n",
    "\n",
    "filter_output.shape, filter_output_sigmoid.shape"
   ]
  },
  {
   "cell_type": "code",
   "execution_count": null,
   "metadata": {},
   "outputs": [],
   "source": [
    "\n",
    "# generating input for fully connected layer\n",
    "filter_output_sigmoid = filter_output_sigmoid.reshape((filter_output_sigmoid.shape[0],filter_output_sigmoid.shape[1]*filter_output_sigmoid.shape[2]))\n",
    "\n",
    "filter_output_sigmoid = filter_output_sigmoid.T\n",
    "\n",
    "# Linear trasnformation for fully Connected Layer\n",
    "output_layer_input= np.dot(wo.T,filter_output_sigmoid)\n",
    "output_layer_input = (output_layer_input - np.average(output_layer_input))/np.std(output_layer_input)\n",
    "\n",
    "# activation function\n",
    "output = sigmoid(output_layer_input)"
   ]
  },
  {
   "cell_type": "code",
   "execution_count": null,
   "metadata": {},
   "outputs": [],
   "source": [
    "#Error\n",
    "error = np.square(y-output)/2\n",
    "\n",
    "#Error w.r.t Output (Gradient)\n",
    "error_wrt_output = -(y-output)\n",
    "\n",
    "#Error w.r.t sigmoid transformation (output_layer_input)\n",
    "output_wrt_output_layer_input=output*(1-output)\n",
    "\n",
    "#Error w.r.t weight\n",
    "output_wrt_w=filter_output_sigmoid"
   ]
  },
  {
   "cell_type": "code",
   "execution_count": null,
   "metadata": {},
   "outputs": [],
   "source": [
    "#delta change in w for fully connected layer\n",
    "delta_error_fcp = np.dot(output_wrt_w,(error_wrt_output * output_wrt_output_layer_input).T)\n",
    "\n",
    "\n",
    "wo = wo - lr*delta_error_fcp"
   ]
  },
  {
   "cell_type": "code",
   "execution_count": null,
   "metadata": {},
   "outputs": [],
   "source": [
    "#Error w.r.t sigmoid output\n",
    "output_layer_input_wrt_filter_output_sigmoid = wo.T\n",
    "\n",
    "#Error w.r.t sigmoid transformation\n",
    "filter_output_sigmoid_wrt_filter_output = filter_output_sigmoid * (1-filter_output_sigmoid)\n",
    "\n",
    "# cvalculating derivatives for backprop convolution\n",
    "error_wrt_filter_output = np.dot(output_layer_input_wrt_filter_output_sigmoid.T,error_wrt_output*output_wrt_output_layer_input) * filter_output_sigmoid_wrt_filter_output\n",
    "error_wrt_filter_output = np.average(error_wrt_filter_output, axis=1)\n",
    "error_wrt_filter_output = np.resize(error_wrt_filter_output,(X.shape[0]-f.shape[0]+1,X.shape[1]-f.shape[1]+1, f.shape[2]))\n"
   ]
  },
  {
   "cell_type": "code",
   "execution_count": null,
   "metadata": {},
   "outputs": [],
   "source": [
    "filter_update = []\n",
    "for i in range(f.shape[2]):\n",
    "    for j in range(f.shape[0]):\n",
    "        for k in range(f.shape[1]):            \n",
    "            temp = 0\n",
    "            spos_row = j\n",
    "            spos_col = k\n",
    "            epos_row = spos_row + s_row\n",
    "            epos_col = spos_col + s_col\n",
    "            for l in range(X.shape[2]):\n",
    "                temp = temp + (X[spos_row:epos_row,spos_col:epos_col,l]*error_wrt_filter_output[:,:,i]).sum()\n",
    "            filter_update.append(temp/X.shape[2])  \n",
    "\n",
    "filter_update_array = np.array(filter_update)\n",
    "filter_update_array = np.resize(filter_update_array,(f.shape[2],f.shape[0],f.shape[1]))"
   ]
  },
  {
   "cell_type": "code",
   "execution_count": null,
   "metadata": {},
   "outputs": [],
   "source": [
    "for i in range(f.shape[2]):\n",
    "    f[:,:,i] = f[:,:,i] - lr*filter_update_array[i]"
   ]
  }
 ],
 "metadata": {
  "kernelspec": {
   "display_name": "Python 3",
   "language": "python",
   "name": "python3"
  },
  "language_info": {
   "codemirror_mode": {
    "name": "ipython",
    "version": 3
   },
   "file_extension": ".py",
   "mimetype": "text/x-python",
   "name": "python",
   "nbconvert_exporter": "python",
   "pygments_lexer": "ipython3",
   "version": "3.7.1"
  }
 },
 "nbformat": 4,
 "nbformat_minor": 2
}
